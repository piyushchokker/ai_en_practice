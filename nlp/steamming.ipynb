{
 "cells": [
  {
   "cell_type": "code",
   "execution_count": 2,
   "id": "ef6cada5-00bd-4968-8af2-3cdef8081c51",
   "metadata": {},
   "outputs": [],
   "source": [
    "from nltk import PorterStemmer"
   ]
  },
  {
   "cell_type": "code",
   "execution_count": 3,
   "id": "80022142-b317-4553-bbd0-c66cb7d814ec",
   "metadata": {},
   "outputs": [],
   "source": [
    "ps=PorterStemmer()"
   ]
  },
  {
   "cell_type": "code",
   "execution_count": 4,
   "id": "bf640477-72d9-48a8-b9f0-c39211804e20",
   "metadata": {},
   "outputs": [],
   "source": [
    "sentence = \"hello my name is piyush . i am 20 years old \""
   ]
  },
  {
   "cell_type": "code",
   "execution_count": 5,
   "id": "a442cf42-3313-4dae-8b0e-2ad4b2171a36",
   "metadata": {},
   "outputs": [],
   "source": [
    "run_tokken= [\"running\",\"jumping\",\"jumped\"]"
   ]
  },
  {
   "cell_type": "code",
   "execution_count": 9,
   "id": "131c600a-ebe7-48c1-bdcc-75f4aaca58ae",
   "metadata": {},
   "outputs": [],
   "source": [
    "steamed_run_tokken=[]\n",
    "for i in run_tokken:\n",
    "    steamed_run_tokken.append(ps.stem(i))"
   ]
  },
  {
   "cell_type": "code",
   "execution_count": 10,
   "id": "2d99eb69-6d52-4dd2-b156-0f397a49f3e7",
   "metadata": {},
   "outputs": [
    {
     "data": {
      "text/plain": [
       "['run', 'jump', 'jump']"
      ]
     },
     "execution_count": 10,
     "metadata": {},
     "output_type": "execute_result"
    }
   ],
   "source": [
    "steamed_run_tokken"
   ]
  },
  {
   "cell_type": "code",
   "execution_count": null,
   "id": "d411193e-61cc-4033-af69-0c8b3e84e9f2",
   "metadata": {},
   "outputs": [],
   "source": []
  }
 ],
 "metadata": {
  "kernelspec": {
   "display_name": "Python 3 (ipykernel)",
   "language": "python",
   "name": "python3"
  },
  "language_info": {
   "codemirror_mode": {
    "name": "ipython",
    "version": 3
   },
   "file_extension": ".py",
   "mimetype": "text/x-python",
   "name": "python",
   "nbconvert_exporter": "python",
   "pygments_lexer": "ipython3",
   "version": "3.13.5"
  }
 },
 "nbformat": 4,
 "nbformat_minor": 5
}
